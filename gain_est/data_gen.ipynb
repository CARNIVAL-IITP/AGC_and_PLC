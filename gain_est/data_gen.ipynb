{
 "cells": [
  {
   "cell_type": "code",
   "execution_count": 16,
   "metadata": {},
   "outputs": [],
   "source": [
    "import soundfile as sf\n",
    "import numpy as np\n",
    "import glob\n",
    "import random"
   ]
  },
  {
   "cell_type": "code",
   "execution_count": 9,
   "metadata": {},
   "outputs": [],
   "source": [
    "male_path = '/home/jhkim21/Data/raw/sitec/SiTEC_Dict01_reading_sentence/SD01-Dict01-Ver1.2_1-2/data/male/**/*'\n",
    "female_path = '/home/jhkim21/Data/raw/sitec/SiTEC_Dict01_reading_sentence/SD01-Dict01-Ver1.2_2-2/data/female/**/*'"
   ]
  },
  {
   "cell_type": "code",
   "execution_count": 10,
   "metadata": {},
   "outputs": [],
   "source": [
    "male_folder = glob.glob(male_path)\n",
    "female_folder = glob.glob(female_path)"
   ]
  },
  {
   "cell_type": "code",
   "execution_count": 15,
   "metadata": {},
   "outputs": [],
   "source": [
    "male_folder = sorted(male_folder, key=lambda a: int(a.split('/')[-1][-3:]))\n",
    "female_folder = sorted(female_folder, key=lambda a: int(a.split('/')[-1][-3:]))"
   ]
  },
  {
   "cell_type": "code",
   "execution_count": null,
   "metadata": {},
   "outputs": [],
   "source": [
    "def concat(wav1, wav2):\n",
    "    len1 = wav1.shape()\n",
    "    len2 = wav2.shape()\n",
    "    \n",
    "    trim_len1 = random.randint(len1//2, len1)\n",
    "    trim_len2 = random.randint(len2//2, len2)\n",
    "    \n",
    "    idx1 = random.randint(0, len1 - trim_len1)\n",
    "    idx2 = random.randint(0, len2 - trim_len2)\n",
    "    trim_wav1 = wav1[idx1:idx1+trim_len1]\n",
    "    trim_wav2 = wav2[idx2:idx2+trim_len2]\n",
    "    \n",
    "    clean = np.concatenate((trim_wav1, trim_wav2))\n",
    "    \n",
    "    if random.randint(0, 1):\n",
    "        max1 = max(trim_wav1)\n",
    "        gain = random.uniform(0.01, (1/max1))\n",
    "        trim_wav1 *= gain\n",
    "    else:\n",
    "        max2 = max(trim_wav2)\n",
    "        gain = random.uniform(0.01, (1/max2))\n",
    "        trim_wav2 *= gain\n",
    "    \n",
    "    noisy = np.concatenate((trim_wav1, trim_wav2))\n",
    "    \n",
    "    return clean, noisy"
   ]
  }
 ],
 "metadata": {
  "kernelspec": {
   "display_name": "Python 3.8.5 ('SDS': conda)",
   "language": "python",
   "name": "python3"
  },
  "language_info": {
   "codemirror_mode": {
    "name": "ipython",
    "version": 3
   },
   "file_extension": ".py",
   "mimetype": "text/x-python",
   "name": "python",
   "nbconvert_exporter": "python",
   "pygments_lexer": "ipython3",
   "version": "3.8.5"
  },
  "orig_nbformat": 4,
  "vscode": {
   "interpreter": {
    "hash": "8faebe5a2c40504fb7c09b62ab9b3c49a32858b967d3499384ad8b14220ec2ce"
   }
  }
 },
 "nbformat": 4,
 "nbformat_minor": 2
}
