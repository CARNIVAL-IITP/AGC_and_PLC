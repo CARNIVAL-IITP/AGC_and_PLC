{
 "cells": [
  {
   "cell_type": "code",
   "execution_count": 28,
   "metadata": {},
   "outputs": [],
   "source": [
    "import soundfile as sf\n",
    "import numpy as np\n",
    "import glob\n",
    "import random\n",
    "from tqdm import tqdm"
   ]
  },
  {
   "cell_type": "code",
   "execution_count": 9,
   "metadata": {},
   "outputs": [],
   "source": [
    "male_path = '/home/jhkim21/Data/raw/sitec/SiTEC_Dict01_reading_sentence/SD01-Dict01-Ver1.2_1-2/data/male/**/*'\n",
    "female_path = '/home/jhkim21/Data/raw/sitec/SiTEC_Dict01_reading_sentence/SD01-Dict01-Ver1.2_2-2/data/female/**/*'"
   ]
  },
  {
   "cell_type": "code",
   "execution_count": 10,
   "metadata": {},
   "outputs": [],
   "source": [
    "male_folder = glob.glob(male_path)\n",
    "female_folder = glob.glob(female_path)"
   ]
  },
  {
   "cell_type": "code",
   "execution_count": 18,
   "metadata": {},
   "outputs": [
    {
     "name": "stdout",
     "output_type": "stream",
     "text": [
      "200 200\n"
     ]
    }
   ],
   "source": [
    "male_folder = sorted(male_folder, key=lambda a: int(a.split('/')[-1][-3:]))\n",
    "female_folder = sorted(female_folder, key=lambda a: int(a.split('/')[-1][-3:]))\n",
    "print(len(male_folder), len(female_folder))"
   ]
  },
  {
   "cell_type": "code",
   "execution_count": 24,
   "metadata": {},
   "outputs": [],
   "source": [
    "def concat(wav1, wav2):\n",
    "    len1 = len(wav1)\n",
    "    len2 = len(wav2)\n",
    "    \n",
    "    trim_len1 = random.randint(len1//2, len1)\n",
    "    trim_len2 = random.randint(len2//2, len2)\n",
    "    \n",
    "    idx1 = random.randint(0, len1 - trim_len1)\n",
    "    idx2 = random.randint(0, len2 - trim_len2)\n",
    "    trim_wav1 = wav1[idx1:idx1+trim_len1]\n",
    "    trim_wav2 = wav2[idx2:idx2+trim_len2]\n",
    "    \n",
    "    clean = np.concatenate((trim_wav1, trim_wav2))\n",
    "    \n",
    "    if random.choice([0, 1]):\n",
    "        max1 = max(trim_wav1)\n",
    "        gain = random.uniform(0.01, (1/max1))\n",
    "        trim_wav1 *= gain\n",
    "    else:\n",
    "        max2 = max(trim_wav2)\n",
    "        gain = random.uniform(0.01, (1/max2))\n",
    "        trim_wav2 *= gain\n",
    "    \n",
    "    noisy = np.concatenate((trim_wav1, trim_wav2))\n",
    "    \n",
    "    return clean, noisy"
   ]
  },
  {
   "cell_type": "code",
   "execution_count": 19,
   "metadata": {},
   "outputs": [
    {
     "name": "stdout",
     "output_type": "stream",
     "text": [
      "360 40\n"
     ]
    }
   ],
   "source": [
    "train_sample = male_folder[:180] + female_folder[:180]\n",
    "test_sample = male_folder[180:] + female_folder[180:]\n",
    "\n",
    "print(len(train_sample), len(test_sample))"
   ]
  },
  {
   "cell_type": "code",
   "execution_count": 30,
   "metadata": {},
   "outputs": [],
   "source": [
    "noisy_path = '/home/jhkim21/Data/processed/2022_AGC/noisy/'\n",
    "clean_path = '/home/jhkim21/Data/processed/2022_AGC/clean/'"
   ]
  },
  {
   "cell_type": "code",
   "execution_count": 31,
   "metadata": {},
   "outputs": [
    {
     "name": "stderr",
     "output_type": "stream",
     "text": [
      "100%|██████████| 9500/9500 [17:10<00:00,  9.22it/s]\n"
     ]
    }
   ],
   "source": [
    "for i in tqdm(range(9500)):\n",
    "    spk1, spk2 = random.choice(train_sample), random.choice(train_sample)\n",
    "    path1, path2 = random.choice(glob.glob(spk1 + '/*.wav')), random.choice(glob.glob(spk2 + '/*.wav'))\n",
    "    \n",
    "    wav1, _ = sf.read(path1)\n",
    "    wav2, _ = sf.read(path2)\n",
    "    \n",
    "    clean, noisy = concat(wav1, wav2)\n",
    "    \n",
    "    sf.write(noisy_path + f'gain_controlled_{i}.wav', noisy, 16000)\n",
    "    sf.write(clean_path + f'original_signal_{i}.wav', clean, 16000)"
   ]
  },
  {
   "cell_type": "code",
   "execution_count": 32,
   "metadata": {},
   "outputs": [],
   "source": [
    "for i in range(9500, 10000):\n",
    "    spk1, spk2 = random.choice(test_sample), random.choice(test_sample)\n",
    "    path1, path2 = random.choice(glob.glob(spk1 + '/*.wav')), random.choice(glob.glob(spk2 + '/*.wav'))\n",
    "    \n",
    "    wav1, _ = sf.read(path1)\n",
    "    wav2, _ = sf.read(path2)\n",
    "    \n",
    "    clean, noisy = concat(wav1, wav2)\n",
    "    \n",
    "    sf.write(noisy_path + f'gain_controlled_{i}.wav', noisy, 16000)\n",
    "    sf.write(clean_path + f'original_signal_{i}.wav', clean, 16000)"
   ]
  },
  {
   "cell_type": "code",
   "execution_count": null,
   "metadata": {},
   "outputs": [],
   "source": []
  }
 ],
 "metadata": {
  "kernelspec": {
   "display_name": "Python 3.8.5 ('SDS': conda)",
   "language": "python",
   "name": "python3"
  },
  "language_info": {
   "codemirror_mode": {
    "name": "ipython",
    "version": 3
   },
   "file_extension": ".py",
   "mimetype": "text/x-python",
   "name": "python",
   "nbconvert_exporter": "python",
   "pygments_lexer": "ipython3",
   "version": "3.8.5"
  },
  "orig_nbformat": 4,
  "vscode": {
   "interpreter": {
    "hash": "8faebe5a2c40504fb7c09b62ab9b3c49a32858b967d3499384ad8b14220ec2ce"
   }
  }
 },
 "nbformat": 4,
 "nbformat_minor": 2
}
