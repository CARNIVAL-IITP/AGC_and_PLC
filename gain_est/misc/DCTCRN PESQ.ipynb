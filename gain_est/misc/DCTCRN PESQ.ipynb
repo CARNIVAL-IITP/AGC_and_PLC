{
 "cells": [
  {
   "cell_type": "code",
   "execution_count": 13,
   "id": "ef685643",
   "metadata": {},
   "outputs": [],
   "source": [
    "%matplotlib inline\n",
    "import matplotlib.pyplot as plt\n",
    "from matplotlib.colors import LogNorm\n",
    "import os, json, random, sys\n",
    "sys.path.insert(0, \"../\")\n",
    "import soundfile as sf\n",
    "import torch\n",
    "from torch.utils.data import DataLoader\n",
    "from soundfile import write, read\n",
    "import numpy as np\n",
    "import IPython.display as ipd\n",
    "import math\n",
    "from utils import get_hparams\n",
    "from functional import mel_spectrogram, stft, spec_to_mel\n",
    "from models import get_wrapper\n",
    "from utils.data_audio import AECDataset\n",
    "from pypesq import pesq\n",
    "from tqdm import tqdm\n",
    "from librosa import resample\n",
    "from models.dctcrn.default.losses import si_snr\n",
    "\n",
    "os.environ[\"CUDA_DEVICE_ORDER\"]=\"PCI_BUS_ID\"   \n",
    "os.environ[\"CUDA_VISIBLE_DEVICES\"]=\"3\"\n",
    "\n",
    "\n",
    "device = 'cuda:0'"
   ]
  },
  {
   "cell_type": "code",
   "execution_count": 14,
   "id": "9aa04a55",
   "metadata": {},
   "outputs": [
    {
     "name": "stdout",
     "output_type": "stream",
     "text": [
      "Loading checkpoint file '../logs/with_adam_block2/00300.pth'...\n"
     ]
    }
   ],
   "source": [
    "name = \"with_adam_block2\"\n",
    "epoch = None\n",
    "\n",
    "base_dir = os.path.join(\"../logs\", name)\n",
    "try:\n",
    "    hps = get_hparams(os.path.join(base_dir, \"config.json\"), base_dir)\n",
    "except FileNotFoundError:\n",
    "    hps = get_hparams(os.path.join(base_dir, \"config.yaml\"), base_dir)\n",
    "#hps.model_kwargs.viterbi_legacy = False\n",
    "\n",
    "wrapper = get_wrapper(hps.model)(hps, device=device)\n",
    "wrapper.load(epoch=300)\n",
    "wrapper.eval()"
   ]
  },
  {
   "cell_type": "markdown",
   "id": "c4c600cc",
   "metadata": {},
   "source": [
    "# Dataset"
   ]
  },
  {
   "cell_type": "code",
   "execution_count": 15,
   "id": "f36aaa03",
   "metadata": {},
   "outputs": [
    {
     "name": "stdout",
     "output_type": "stream",
     "text": [
      "Warning - segment_size 320000 is longer than the data size 319998\n",
      "(320000,)\n"
     ]
    }
   ],
   "source": [
    "hps.data.segment_size = 320000\n",
    "dataset = AECDataset(hps.data, mode=\"valid\")\n",
    "print(dataset[3]['mix'].shape)\n",
    "#dataset.files = dataset.files[:100]\n",
    "#print(len(dataset))\n",
    "dataloader = DataLoader(dataset, batch_size=5)"
   ]
  },
  {
   "cell_type": "markdown",
   "id": "067c65ba",
   "metadata": {},
   "source": [
    "# Utils"
   ]
  },
  {
   "cell_type": "code",
   "execution_count": 16,
   "id": "52ccca70",
   "metadata": {},
   "outputs": [],
   "source": [
    "def vad(arr, threshold=1e-4):\n",
    "    start, stop = 0, 0\n",
    "    for i in range(arr.size):\n",
    "        if arr[i] > threshold:\n",
    "            start = i\n",
    "            break\n",
    "    for i in reversed(range(arr.size)):\n",
    "        if arr[i] > threshold:\n",
    "            stop = i\n",
    "            break\n",
    "    \n",
    "    return start, stop\n",
    "\n",
    "\n",
    "def cal_ERLE(src_mix, src_est, start, stop):\n",
    "    #pow_mix = np.sum(np.power(src_mix[:start], 2)) + np.sum(np.power(src_mix[stop:], 2))\n",
    "    #pow_est = np.sum(np.power(src_est[:start], 2)) + np.sum(np.power(src_est[stop:], 2))\n",
    "    pow_mix = np.sum(np.power(src_mix, 2))\n",
    "    pow_est = np.sum(np.power(src_est, 2))\n",
    "    erle = 10 * math.log(pow_mix/pow_est)\n",
    "\n",
    "    return erle"
   ]
  },
  {
   "cell_type": "markdown",
   "id": "1bf4348e",
   "metadata": {},
   "source": [
    "# Batched Inference (Fast)"
   ]
  },
  {
   "cell_type": "code",
   "execution_count": 18,
   "id": "62491fac",
   "metadata": {},
   "outputs": [
    {
     "name": "stdout",
     "output_type": "stream",
     "text": [
      "with_adam_block2\n",
      "500/500 - 4.339033418178558  pesq_NEST = 4.339033418178558, erle_FEST = 67.61634806453888\n"
     ]
    }
   ],
   "source": [
    "pesq_mean = 0.\n",
    "ERLE_mean = 0.\n",
    "print(name)\n",
    "os.makedirs(os.path.join(\"../samples\", name), exist_ok=True)\n",
    "os.makedirs(os.path.join(\"../samples\", name, 'single_talk/est'), exist_ok=True)\n",
    "os.makedirs(os.path.join(\"../samples\", name, 'single_talk/echo'), exist_ok=True)\n",
    "for idx, batch in enumerate(dataloader):\n",
    "    near = batch[\"near\"]\n",
    "    far = batch[\"far\"]\n",
    "    mix = batch[\"mix\"]\n",
    "    #echo = batch['echo']\n",
    "    #wav_len = near.size(-1) // hps.model_kwargs.hop_size * hps.model_kwargs.hop_size\n",
    "    #near = near[..., :wav_len]\n",
    "    #far = far[..., :wav_len]\n",
    "    #mix = mix[..., :wav_len]\n",
    "    b = near.size(0)\n",
    "    with torch.no_grad():    \n",
    "        if hasattr(wrapper.model, \"autoregressive_valid\"):\n",
    "            wav_out = wrapper.model.autoregressive_valid(far.view(b, -1).to(device), mix.view(b, -1).to(device))\n",
    "        else:\n",
    "            wav_out, echo_out = wrapper.model(far.view(b, -1).to(device), mix.view(b, -1).to(device))\n",
    "        wav_out = wav_out.squeeze()\n",
    "        echo_out = echo_out.squeeze()\n",
    "\n",
    "    #wav_out = wav_out.clip(min=-1.0, max=1.0)\n",
    "    for i in range(b):\n",
    "        #sf.write('./dctcrn_sample_{}.wav'.format(i), wav_out[i].cpu().numpy(), samplerate=16000)\n",
    "        #print('save')\n",
    "\n",
    "        n = near[i]\n",
    "        wo = wav_out[i]\n",
    "        eo = echo_out[i]\n",
    "        m = mix[i]\n",
    "        n = n.cpu().numpy()\n",
    "        m = m.cpu().numpy()\n",
    "        wo = wo.cpu().numpy()\n",
    "        eo = eo.cpu().numpy()\n",
    "        l, r = vad(n)\n",
    "        ERLE_mean += cal_ERLE(m[:160000], wo[:160000], l, r)\n",
    "        pesq_mean += pesq(n[160000:], wo[160000:], 16000)\n",
    "        #ERLE_mean += avg_erle\n",
    "        sf.write(os.path.join('../samples/', name, 'est', 'near_est_'+str(idx*b + i+1) +'.wav'), wo, 16000)\n",
    "        sf.write(os.path.join('../samples/', name, 'echo', 'echo_est_' + str(idx*b +i+1) + '.wav'), eo, 16000)\n",
    "        print(f\"\\r{idx*b + i+1}/{len(dataset)} - {pesq_mean / (idx*b + i+1)}\", end=\" \", flush=True)\n",
    "        #print(f\"\\r{idx*b + i+1}/{len(dataset)} - {ERLE_mean / (idx*b + i+1)}\", end=\" \", flush=True)\n",
    "\n",
    "pesq_mean /= (idx*b + i+1)\n",
    "ERLE_mean /= (idx*b + i+1)\n",
    "print(\"pesq_NEST = {}, erle_FEST = {}\".format(pesq_mean, ERLE_mean))"
   ]
  },
  {
   "cell_type": "markdown",
   "id": "56410f6c",
   "metadata": {},
   "source": [
    "# Noisy's PESQ"
   ]
  },
  {
   "cell_type": "code",
   "execution_count": 38,
   "id": "905fcea8",
   "metadata": {},
   "outputs": [
    {
     "name": "stdout",
     "output_type": "stream",
     "text": [
      "echofilter_like_full\n",
      "81/500 - nan 68844826462902 "
     ]
    },
    {
     "name": "stderr",
     "output_type": "stream",
     "text": [
      "/home/jhkim21/anaconda3/envs/SDS/lib/python3.8/site-packages/pypesq/__init__.py:53: UserWarning: Processing Error! return NaN\n",
      "  warnings.warn('Processing Error! return NaN')\n"
     ]
    },
    {
     "name": "stdout",
     "output_type": "stream",
     "text": [
      "500/500 - nan \n"
     ]
    }
   ],
   "source": [
    "pesq_mean = 0.\n",
    "print(name)\n",
    "\n",
    "for idx, batch in enumerate(dataloader):\n",
    "    near = batch[\"near\"]\n",
    "    mix = batch[\"mix\"]\n",
    "    for i in range(b):\n",
    "        n = near[i]\n",
    "        m = mix[i]\n",
    "        pesq_mean += pesq(n.cpu().numpy(), m.cpu().numpy(), 16000)\n",
    "        print(f\"\\r{idx*b + i+1}/{len(dataset)} - {pesq_mean / (idx*b + i+1)}\", end=\" \", flush=True)\n",
    "pesq_mean /= (idx*b + i+1)\n",
    "print(\"\")"
   ]
  },
  {
   "cell_type": "code",
   "execution_count": null,
   "id": "2ec7c940",
   "metadata": {},
   "outputs": [],
   "source": []
  }
 ],
 "metadata": {
  "kernelspec": {
   "display_name": "Python 3.8.5 ('SDS': conda)",
   "language": "python",
   "name": "python3"
  },
  "language_info": {
   "codemirror_mode": {
    "name": "ipython",
    "version": 3
   },
   "file_extension": ".py",
   "mimetype": "text/x-python",
   "name": "python",
   "nbconvert_exporter": "python",
   "pygments_lexer": "ipython3",
   "version": "3.8.5"
  },
  "vscode": {
   "interpreter": {
    "hash": "8faebe5a2c40504fb7c09b62ab9b3c49a32858b967d3499384ad8b14220ec2ce"
   }
  }
 },
 "nbformat": 4,
 "nbformat_minor": 5
}
