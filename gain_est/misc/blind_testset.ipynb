{
 "cells": [
  {
   "cell_type": "code",
   "execution_count": 1,
   "id": "ef685643",
   "metadata": {},
   "outputs": [],
   "source": [
    "%matplotlib inline\n",
    "import matplotlib.pyplot as plt\n",
    "from matplotlib.colors import LogNorm\n",
    "import os, json, random, sys\n",
    "sys.path.insert(0, \"../\")\n",
    "import soundfile as sf\n",
    "import torch\n",
    "from torch.utils.data import DataLoader\n",
    "from soundfile import write, read\n",
    "import numpy as np\n",
    "import IPython.display as ipd\n",
    "import math\n",
    "from utils import get_hparams\n",
    "from functional import mel_spectrogram, stft, spec_to_mel\n",
    "from models import get_wrapper\n",
    "from pypesq import pesq\n",
    "from tqdm import tqdm\n",
    "import librosa\n",
    "from librosa import resample\n",
    "from models.dctcrn.default.losses import si_snr\n",
    "import glob\n",
    "\n",
    "#os.environ[\"CUDA_DEVICE_ORDER\"]=\"PCI_BUS_ID\"   \n",
    "#os.environ[\"CUDA_VISIBLE_DEVICES\"]=\"5\"\n",
    "\n",
    "\n",
    "#device = 'cuda:0'"
   ]
  },
  {
   "cell_type": "code",
   "execution_count": 2,
   "id": "ba5b0c41",
   "metadata": {},
   "outputs": [],
   "source": [
    "class AECDataset(torch.utils.data.Dataset):\n",
    "    def __init__(self, path=None):\n",
    "        super().__init__()\n",
    "        self.path = path\n",
    "        self.files = glob.glob(path + '/**/*_mic.wav')\n",
    "        self.sampling_rate = 16000\n",
    "\n",
    "    def shuffle(self, seed: int):\n",
    "        random.seed(seed)\n",
    "        random.shuffle(self.files)\n",
    "    \n",
    "    def __len__(self):\n",
    "        return len(self.files)\n",
    "    \n",
    "    def __getitem__(self, idx):\n",
    "        _id = self.files[idx]\n",
    "\n",
    "        far, sr = librosa.core.load(\n",
    "            _id.replace('mic', 'lpb'),\n",
    "            sr=None\n",
    "        )\n",
    "        assert sr == self.sampling_rate\n",
    "        mix, sr = librosa.core.load(\n",
    "            _id,\n",
    "            sr=None\n",
    "        )\n",
    "        assert sr == self.sampling_rate\n",
    "\n",
    "        res = {\"far\": far, \"mix\": mix}\n",
    "        \n",
    "        return res"
   ]
  },
  {
   "cell_type": "code",
   "execution_count": 7,
   "id": "9aa04a55",
   "metadata": {},
   "outputs": [
    {
     "name": "stdout",
     "output_type": "stream",
     "text": [
      "Loading checkpoint file '../logs/dctcrn_64000/00800.pth'...\n"
     ]
    }
   ],
   "source": [
    "name = \"dctcrn_64000\"\n",
    "epoch = None\n",
    "\n",
    "base_dir = os.path.join(\"../logs\", name)\n",
    "try:\n",
    "    hps = get_hparams(os.path.join(base_dir, \"config.json\"), base_dir)\n",
    "except FileNotFoundError:\n",
    "    hps = get_hparams(os.path.join(base_dir, \"config.yaml\"), base_dir)\n",
    "#hps.model_kwargs.viterbi_legacy = False\n",
    "\n",
    "wrapper = get_wrapper(hps.model)(hps, device=device)\n",
    "wrapper.load(epoch=800)\n",
    "wrapper.eval()"
   ]
  },
  {
   "cell_type": "markdown",
   "id": "c4c600cc",
   "metadata": {},
   "source": [
    "# Dataset"
   ]
  },
  {
   "cell_type": "code",
   "execution_count": 8,
   "id": "f36aaa03",
   "metadata": {},
   "outputs": [],
   "source": [
    "path = '/home/jhkim21/Data/AEC-Challenge/datasets/blind_test_set_interspeech2021'\n",
    "dataset = AECDataset(path)\n",
    "#dataset.files = dataset.files[:100]\n",
    "#print(len(dataset))\n",
    "dataloader = DataLoader(dataset, batch_size=1)"
   ]
  },
  {
   "cell_type": "markdown",
   "id": "067c65ba",
   "metadata": {},
   "source": [
    "# Utils"
   ]
  },
  {
   "cell_type": "code",
   "execution_count": 9,
   "id": "52ccca70",
   "metadata": {},
   "outputs": [],
   "source": [
    "def vad(arr, threshold=1e-4):\n",
    "    start, stop = 0, 0\n",
    "    for i in range(arr.size):\n",
    "        if arr[i] > threshold:\n",
    "            start = i\n",
    "            break\n",
    "    for i in reversed(range(arr.size)):\n",
    "        if arr[i] > threshold:\n",
    "            stop = i\n",
    "            break\n",
    "    \n",
    "    return start, stop\n",
    "\n",
    "\n",
    "def cal_ERLE(src_mix, src_est, start, stop):\n",
    "    #pow_mix = np.sum(np.power(src_mix[:start], 2)) + np.sum(np.power(src_mix[stop:], 2))\n",
    "    #pow_est = np.sum(np.power(src_est[:start], 2)) + np.sum(np.power(src_est[stop:], 2))\n",
    "    pow_mix = np.sum(np.power(src_mix, 2))\n",
    "    pow_est = np.sum(np.power(src_est, 2))\n",
    "    erle = 10 * math.log(pow_mix/pow_est)\n",
    "\n",
    "    return erle"
   ]
  },
  {
   "cell_type": "markdown",
   "id": "1bf4348e",
   "metadata": {},
   "source": [
    "# Batched Inference (Fast)"
   ]
  },
  {
   "cell_type": "code",
   "execution_count": 11,
   "id": "62491fac",
   "metadata": {},
   "outputs": [
    {
     "name": "stdout",
     "output_type": "stream",
     "text": [
      "dctcrn_64000\n",
      "50\n",
      "50/500 - 111.3869625094808  50\n",
      "100/500 - 113.52666197321088 50\n",
      "150/500 - 114.04197105133021 50\n",
      "200/500 - 113.57572878223606 50\n",
      "250/500 - 112.256661506488 7 50\n",
      "300/500 - 112.12311683519523 50\n",
      "350/500 - 111.73133904588842 50\n",
      "400/500 - 111.7153748020256  50\n",
      "450/500 - 111.81078295404313 50\n",
      "500/500 - 111.43865097102537 pesq_NEST = 4.3976437516212465, erle_FEST = 111.43865097102537\n"
     ]
    }
   ],
   "source": [
    "pesq_mean = 0.\n",
    "ERLE_mean = 0.\n",
    "print(name)\n",
    "\n",
    "for idx, batch in enumerate(dataloader):\n",
    "    near = batch[\"near\"]\n",
    "    far = batch[\"far\"]\n",
    "    mix = batch[\"mix\"]\n",
    "    #echo = batch['echo']\n",
    "    #wav_len = near.size(-1) // hps.model_kwargs.hop_size * hps.model_kwargs.hop_size\n",
    "    #near = near[..., :wav_len]\n",
    "    #far = far[..., :wav_len]\n",
    "    #mix = mix[..., :wav_len]\n",
    "    b = near.size(0)\n",
    "    print(b)\n",
    "    with torch.no_grad():\n",
    "        if hasattr(wrapper.model, \"autoregressive_valid\"):\n",
    "            wav_out = wrapper.model.autoregressive_valid(far.view(b, -1).to(device), mix.view(b, -1).to(device))\n",
    "        else:\n",
    "            wav_out, _= wrapper.model(far.view(b, -1).to(device), mix.view(b, -1).to(device))\n",
    "        wav_out = wav_out.squeeze()\n",
    "        \n",
    "    #wav_out = wav_out.clip(min=-1.0, max=1.0)\n",
    "    for i in range(b):\n",
    "        #sf.write('./dctcrn_sample_{}.wav'.format(i), wav_out[i].cpu().numpy(), samplerate=16000)\n",
    "        #print('save')\n",
    "\n",
    "        n = near[i]\n",
    "        wo = wav_out[i]\n",
    "        m = mix[i]\n",
    "        n = n.cpu().numpy()\n",
    "        m = m.cpu().numpy()\n",
    "        wo = wo.cpu().numpy()\n",
    "        l, r = vad(n)\n",
    "        avg_erle = cal_ERLE(m[:160000], wo[:160000], l, r)\n",
    "        pesq_mean += pesq(n[160000:], wo[160000:], 16000)\n",
    "        ERLE_mean += avg_erle\n",
    "        #print(f\"\\r{idx*b + i+1}/{len(dataset)} - {pesq_mean / (idx*b + i+1)}\", end=\" \", flush=True)\n",
    "        print(f\"\\r{idx*b + i+1}/{len(dataset)} - {ERLE_mean / (idx*b + i+1)}\", end=\" \", flush=True)\n",
    "\n",
    "pesq_mean /= (idx*b + i+1)\n",
    "ERLE_mean /= (idx*b + i+1)\n",
    "print(\"pesq_NEST = {}, erle_FEST = {}\".format(pesq_mean, ERLE_mean))"
   ]
  },
  {
   "cell_type": "markdown",
   "id": "56410f6c",
   "metadata": {},
   "source": [
    "# Noisy's PESQ"
   ]
  },
  {
   "cell_type": "code",
   "execution_count": 38,
   "id": "905fcea8",
   "metadata": {},
   "outputs": [
    {
     "name": "stdout",
     "output_type": "stream",
     "text": [
      "echofilter_like_full\n",
      "81/500 - nan 68844826462902 "
     ]
    },
    {
     "name": "stderr",
     "output_type": "stream",
     "text": [
      "/home/jhkim21/anaconda3/envs/SDS/lib/python3.8/site-packages/pypesq/__init__.py:53: UserWarning: Processing Error! return NaN\n",
      "  warnings.warn('Processing Error! return NaN')\n"
     ]
    },
    {
     "name": "stdout",
     "output_type": "stream",
     "text": [
      "500/500 - nan \n"
     ]
    }
   ],
   "source": [
    "pesq_mean = 0.\n",
    "print(name)\n",
    "\n",
    "for idx, batch in enumerate(dataloader):\n",
    "    near = batch[\"near\"]\n",
    "    mix = batch[\"mix\"]\n",
    "    for i in range(b):\n",
    "        n = near[i]\n",
    "        m = mix[i]\n",
    "        pesq_mean += pesq(n.cpu().numpy(), m.cpu().numpy(), 16000)\n",
    "        print(f\"\\r{idx*b + i+1}/{len(dataset)} - {pesq_mean / (idx*b + i+1)}\", end=\" \", flush=True)\n",
    "pesq_mean /= (idx*b + i+1)\n",
    "print(\"\")"
   ]
  },
  {
   "cell_type": "code",
   "execution_count": null,
   "id": "2ec7c940",
   "metadata": {},
   "outputs": [],
   "source": []
  }
 ],
 "metadata": {
  "kernelspec": {
   "display_name": "Python 3.8.5 ('SDS': conda)",
   "language": "python",
   "name": "python3"
  },
  "language_info": {
   "codemirror_mode": {
    "name": "ipython",
    "version": 3
   },
   "file_extension": ".py",
   "mimetype": "text/x-python",
   "name": "python",
   "nbconvert_exporter": "python",
   "pygments_lexer": "ipython3",
   "version": "3.8.5"
  },
  "vscode": {
   "interpreter": {
    "hash": "8faebe5a2c40504fb7c09b62ab9b3c49a32858b967d3499384ad8b14220ec2ce"
   }
  }
 },
 "nbformat": 4,
 "nbformat_minor": 5
}
