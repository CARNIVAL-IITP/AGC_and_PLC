{
 "cells": [
  {
   "cell_type": "code",
   "execution_count": 1,
   "id": "f1aa18b9",
   "metadata": {},
   "outputs": [],
   "source": [
    "%matplotlib inline\n",
    "import matplotlib.pyplot as plt\n",
    "from matplotlib.colors import LogNorm\n",
    "import os, json, random, sys\n",
    "sys.path.insert(0, \"../\")\n",
    "\n",
    "import torch\n",
    "from torch.utils.data import DataLoader\n",
    "from soundfile import write, read\n",
    "import numpy as np\n",
    "import IPython.display as ipd\n",
    "\n",
    "from utils import get_hparams\n",
    "from functional import mel_spectrogram, stft, spec_to_mel\n",
    "from models import get_wrapper\n",
    "from utils.data_audio import AECDataset\n",
    "from pypesq import pesq\n",
    "from tqdm import tqdm\n",
    "from librosa import resample\n",
    "from models.dctcrn.default.losses import si_snr\n",
    "\n",
    "os.environ[\"CUDA_DEVICE_ORDER\"]=\"PCI_BUS_ID\"   \n",
    "os.environ[\"CUDA_VISIBLE_DEVICES\"]=\"0\"\n",
    "device = 'cpu'"
   ]
  },
  {
   "cell_type": "code",
   "execution_count": 2,
   "id": "c1576cc4",
   "metadata": {},
   "outputs": [
    {
     "name": "stdout",
     "output_type": "stream",
     "text": [
      "Loading checkpoint file '../logs/dctcrn/default_tanh_aux_coslr/00100.pth'...\n"
     ]
    }
   ],
   "source": [
    "name = \"dctcrn/default_tanh_aux_coslr\"\n",
    "epoch = None\n",
    "\n",
    "base_dir = os.path.join(\"../logs\", name)\n",
    "try:\n",
    "    hps = get_hparams(os.path.join(base_dir, \"config.json\"), base_dir)\n",
    "except FileNotFoundError:\n",
    "    hps = get_hparams(os.path.join(base_dir, \"config.yaml\"), base_dir)\n",
    "#hps.model_kwargs.viterbi_legacy = False\n",
    "\n",
    "wrapper = get_wrapper(hps.model)(hps, device=device)\n",
    "wrapper.load(epoch=epoch)\n",
    "wrapper.eval()"
   ]
  },
  {
   "cell_type": "markdown",
   "id": "8af575fb",
   "metadata": {},
   "source": [
    "# Dataset"
   ]
  },
  {
   "cell_type": "code",
   "execution_count": 3,
   "id": "e870d013",
   "metadata": {},
   "outputs": [
    {
     "name": "stdout",
     "output_type": "stream",
     "text": [
      "100\n"
     ]
    }
   ],
   "source": [
    "hps.data.segment_size = 160000\n",
    "dataset = AECDataset(hps.data, mode=\"valid\")\n",
    "dataset.files = dataset.files[:100]\n",
    "print(len(dataset))\n",
    "dataloader = DataLoader(dataset, batch_size=100)"
   ]
  },
  {
   "cell_type": "markdown",
   "id": "558798ca",
   "metadata": {},
   "source": [
    "# Batched Inference (Fast)"
   ]
  },
  {
   "cell_type": "code",
   "execution_count": 5,
   "id": "72154d31",
   "metadata": {},
   "outputs": [
    {
     "name": "stdout",
     "output_type": "stream",
     "text": [
      "dctcrn/default_tanh_aux_coslr\n",
      "100/100 - 2.662963027358055 \n"
     ]
    }
   ],
   "source": [
    "pesq_mean = 0.\n",
    "print(name)\n",
    "\n",
    "for idx, batch in enumerate(dataloader):\n",
    "    near = batch[\"near\"]\n",
    "    far = batch[\"far\"]\n",
    "    mix = batch[\"mix\"]\n",
    "    wav_len = near.size(-1) // hps.model_kwargs.hop_size * hps.model_kwargs.hop_size\n",
    "    near = near[..., :wav_len]\n",
    "    far = far[..., :wav_len]\n",
    "    mix = mix[..., :wav_len]\n",
    "    b = near.size(0)\n",
    "    with torch.no_grad():\n",
    "        if hasattr(wrapper.model, \"autoregressive_valid\"):\n",
    "            wav_out, _ = wrapper.model.autoregressive_valid(far.view(b, -1).to(device), mix.view(b, -1).to(device))\n",
    "        else:\n",
    "            wav_out, _ = wrapper.model(far.view(b, -1).to(device), mix.view(b, -1).to(device))\n",
    "        wav_out = wav_out.squeeze()\n",
    "    #wav_out = wav_out.clip(min=-1.0, max=1.0)\n",
    "    for i in range(b):\n",
    "        n = near[i]\n",
    "        wo = wav_out[i]\n",
    "        pesq_mean += pesq(n.cpu().numpy(), wo.cpu().numpy(), 16000)\n",
    "        print(f\"\\r{idx*b + i+1}/{len(dataset)} - {pesq_mean / (idx*b + i+1)}\", end=\" \", flush=True)\n",
    "pesq_mean /= (idx*b + i+1)\n",
    "print(\"\")"
   ]
  },
  {
   "cell_type": "markdown",
   "id": "58ce0a8c",
   "metadata": {},
   "source": [
    "# Noisy's PESQ"
   ]
  },
  {
   "cell_type": "code",
   "execution_count": 8,
   "id": "4f451ece",
   "metadata": {},
   "outputs": [
    {
     "name": "stdout",
     "output_type": "stream",
     "text": [
      "dctcrn/default_tanh_aux_coslr\n",
      "100/100 - 1.8771302208304406 \n"
     ]
    }
   ],
   "source": [
    "pesq_mean = 0.\n",
    "print(name)\n",
    "\n",
    "for idx, batch in enumerate(dataloader):\n",
    "    near = batch[\"near\"]\n",
    "    mix = batch[\"mix\"]\n",
    "    for i in range(b):\n",
    "        n = near[i]\n",
    "        m = mix[i]\n",
    "        pesq_mean += pesq(n.cpu().numpy(), m.cpu().numpy(), 16000)\n",
    "        print(f\"\\r{idx*b + i+1}/{len(dataset)} - {pesq_mean / (idx*b + i+1)}\", end=\" \", flush=True)\n",
    "pesq_mean /= (idx*b + i+1)\n",
    "print(\"\")"
   ]
  },
  {
   "cell_type": "code",
   "execution_count": null,
   "id": "efcf2326",
   "metadata": {},
   "outputs": [],
   "source": []
  }
 ],
 "metadata": {
  "kernelspec": {
   "display_name": "Python 3 (ipykernel)",
   "language": "python",
   "name": "python3"
  },
  "language_info": {
   "codemirror_mode": {
    "name": "ipython",
    "version": 3
   },
   "file_extension": ".py",
   "mimetype": "text/x-python",
   "name": "python",
   "nbconvert_exporter": "python",
   "pygments_lexer": "ipython3",
   "version": "3.10.4"
  }
 },
 "nbformat": 4,
 "nbformat_minor": 5
}
