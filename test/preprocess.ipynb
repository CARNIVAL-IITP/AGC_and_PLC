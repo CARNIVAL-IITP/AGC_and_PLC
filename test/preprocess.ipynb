{
 "cells": [
  {
   "cell_type": "code",
   "execution_count": 37,
   "metadata": {},
   "outputs": [],
   "source": [
    "import soundfile as sf\n",
    "import numpy as np\n",
    "import json\n",
    "import glob"
   ]
  },
  {
   "cell_type": "code",
   "execution_count": 11,
   "metadata": {},
   "outputs": [],
   "source": [
    "train_dir = '/home/jhkim21/Data/raw/TIMIT/TIMIT/timit/train/*/**/*.wav'\n",
    "train_list = glob.glob(train_dir)\n",
    "\n",
    "test_dir = '/home/jhkim21/Data/raw/TIMIT/TIMIT/timit/test/*/**/*.wav'\n",
    "test_list = glob.glob(test_dir)"
   ]
  },
  {
   "cell_type": "code",
   "execution_count": 13,
   "metadata": {},
   "outputs": [
    {
     "name": "stdout",
     "output_type": "stream",
     "text": [
      "6300\n"
     ]
    }
   ],
   "source": [
    "print(len(train_list) + len(test_list))"
   ]
  },
  {
   "cell_type": "code",
   "execution_count": 34,
   "metadata": {},
   "outputs": [
    {
     "name": "stdout",
     "output_type": "stream",
     "text": [
      "/home/jhkim21/Data/raw/TIMIT/TIMIT/timit/train/dr7/madd0/sx178.phn\n",
      "['0', '2040', 'h#\\n']\n",
      "['2040', '4280', 'sh\\n']\n",
      "['4280', '5806', 'iy\\n']\n",
      "['5806', '6600', 'q\\n']\n",
      "['6600', '7812', 'ix\\n']\n",
      "['7812', '8313', 'ng\\n']\n",
      "['8313', '8840', 'kcl\\n']\n",
      "['8840', '10040', 'k\\n']\n",
      "['10040', '12156', 'er\\n']\n",
      "['12156', '13368', 'ix\\n']\n",
      "['13368', '13744', 'dcl\\n']\n",
      "['13744', '15164', 'jh\\n']\n",
      "['15164', '15560', 'dcl\\n']\n",
      "['15560', '16520', 'hh\\n']\n",
      "['16520', '17671', 'er\\n']\n",
      "['17671', '18280', 'tcl\\n']\n",
      "['18280', '19800', 'ch\\n']\n",
      "['19800', '21080', 'ih\\n']\n",
      "['21080', '21806', 'l\\n']\n",
      "['21806', '22520', 'dcl\\n']\n",
      "['22520', '22760', 'd\\n']\n",
      "['22760', '24313', 'axr\\n']\n",
      "['24313', '25720', 'n\\n']\n",
      "['25720', '26151', 'tcl\\n']\n",
      "['26151', '27400', 't\\n']\n",
      "['27400', '28040', 'ux\\n']\n",
      "['28040', '29000', 'm\\n']\n",
      "['29000', '30840', 'ey\\n']\n",
      "['30840', '32040', 'kcl\\n']\n",
      "['32040', '32360', 'dh\\n']\n",
      "['32360', '33086', 'eh\\n']\n",
      "['33086', '33838', 'r\\n']\n",
      "['33838', '34840', 'q\\n']\n",
      "['34840', '36762', 'ow\\n']\n",
      "['36762', '37389', 'n\\n']\n",
      "['37389', '38680', 'hv\\n']\n",
      "['38680', '40229', 'aa\\n']\n",
      "['40229', '40800', 'l\\n']\n",
      "['40800', '41357', 'ax\\n']\n",
      "['41357', '42485', 'w\\n']\n",
      "['42485', '43947', 'iy\\n']\n",
      "['43947', '45320', 'n\\n']\n",
      "['45320', '45720', 'kcl\\n']\n",
      "['45720', '46840', 'k\\n']\n",
      "['46840', '48680', 'aa\\n']\n",
      "['48680', '49770', 's\\n']\n",
      "['49770', '50605', 'tcl\\n']\n",
      "['50605', '51000', 't\\n']\n",
      "['51000', '52318', 'ux\\n']\n",
      "['52318', '54520', 'm\\n']\n",
      "['54520', '56840', 'z\\n']\n",
      "['56840', '58880', 'h#\\n']\n"
     ]
    }
   ],
   "source": [
    "a = train_list[1].replace('.wav', '.phn')\n",
    "print(a)\n",
    "f = open(a, 'r')\n",
    "res = []\n",
    "while True:\n",
    "    line = f.readline()\n",
    "    if not line: break\n",
    "    print(line.split(' '))\n",
    "    res.append(line.split(' ')[:2])\n",
    "f.close()"
   ]
  },
  {
   "cell_type": "code",
   "execution_count": 35,
   "metadata": {},
   "outputs": [
    {
     "name": "stdout",
     "output_type": "stream",
     "text": [
      "[['0', '2040'], ['2040', '4280'], ['4280', '5806'], ['5806', '6600'], ['6600', '7812'], ['7812', '8313'], ['8313', '8840'], ['8840', '10040'], ['10040', '12156'], ['12156', '13368'], ['13368', '13744'], ['13744', '15164'], ['15164', '15560'], ['15560', '16520'], ['16520', '17671'], ['17671', '18280'], ['18280', '19800'], ['19800', '21080'], ['21080', '21806'], ['21806', '22520'], ['22520', '22760'], ['22760', '24313'], ['24313', '25720'], ['25720', '26151'], ['26151', '27400'], ['27400', '28040'], ['28040', '29000'], ['29000', '30840'], ['30840', '32040'], ['32040', '32360'], ['32360', '33086'], ['33086', '33838'], ['33838', '34840'], ['34840', '36762'], ['36762', '37389'], ['37389', '38680'], ['38680', '40229'], ['40229', '40800'], ['40800', '41357'], ['41357', '42485'], ['42485', '43947'], ['43947', '45320'], ['45320', '45720'], ['45720', '46840'], ['46840', '48680'], ['48680', '49770'], ['49770', '50605'], ['50605', '51000'], ['51000', '52318'], ['52318', '54520'], ['54520', '56840'], ['56840', '58880']]\n"
     ]
    }
   ],
   "source": [
    "print(res)"
   ]
  },
  {
   "cell_type": "code",
   "execution_count": 41,
   "metadata": {},
   "outputs": [],
   "source": [
    "output = []\n",
    "for i in range(len(test_list)):\n",
    "    temp = dict()\n",
    "    sample, sr = sf.read(test_list[i])\n",
    "    temp['path'] = test_list[i]\n",
    "    temp['length'] = sample.shape[0]\n",
    "    a = test_list[i].replace('.wav', '.phn')\n",
    "    f = open(a, 'r')\n",
    "    res = []\n",
    "    while True:\n",
    "        line = f.readline()\n",
    "        if not line: break\n",
    "        res.append(line.split(' ')[:2])\n",
    "    temp['label'] = res\n",
    "    output.append(temp)\n",
    "\n",
    "with open('/home/jhkim21/IITP/2022/AGC/AGC_IITP/src/VAD/test.json', 'w') as out:\n",
    "    json.dump(output, out, indent=4)"
   ]
  },
  {
   "cell_type": "code",
   "execution_count": null,
   "metadata": {},
   "outputs": [],
   "source": []
  }
 ],
 "metadata": {
  "kernelspec": {
   "display_name": "Python 3.8.5 ('SDS': conda)",
   "language": "python",
   "name": "python3"
  },
  "language_info": {
   "codemirror_mode": {
    "name": "ipython",
    "version": 3
   },
   "file_extension": ".py",
   "mimetype": "text/x-python",
   "name": "python",
   "nbconvert_exporter": "python",
   "pygments_lexer": "ipython3",
   "version": "3.8.5"
  },
  "orig_nbformat": 4,
  "vscode": {
   "interpreter": {
    "hash": "8faebe5a2c40504fb7c09b62ab9b3c49a32858b967d3499384ad8b14220ec2ce"
   }
  }
 },
 "nbformat": 4,
 "nbformat_minor": 2
}
