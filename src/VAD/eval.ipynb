{
 "cells": [
  {
   "cell_type": "code",
   "execution_count": 2,
   "metadata": {},
   "outputs": [],
   "source": [
    "import numpy as np\n",
    "from model import VAD\n",
    "from dataset import VADDataset\n",
    "from sklearn import metrics\n",
    "from torch.utils.data import DataLoader\n",
    "import torch\n",
    "import os"
   ]
  },
  {
   "cell_type": "code",
   "execution_count": 3,
   "metadata": {},
   "outputs": [],
   "source": [
    "os.environ[\"CUDA_DEVICE_ORDER\"]=\"PCI_BUS_ID\"   \n",
    "os.environ[\"CUDA_VISIBLE_DEVICES\"]=\"4\"\n",
    "\n",
    "\n",
    "device = 'cuda:0'"
   ]
  },
  {
   "cell_type": "code",
   "execution_count": 4,
   "metadata": {},
   "outputs": [
    {
     "name": "stdout",
     "output_type": "stream",
     "text": [
      "Processing 1680 of 1680\n",
      "Done!\n",
      "Merging frames 130543 of 130543\n",
      "label_zero : 1370.0, label_one : 129173.0\n",
      "\n",
      "Augment 127803 zeros to dataset...\n",
      "Shuffling...\n",
      "Final frames :  258346\n",
      "Done!\n"
     ]
    }
   ],
   "source": [
    "vad = VAD.load_model('./logs/ckpts/epoch20.pth.tar')\n",
    "dataset = VADDataset(json_path = './', mode='test', sample_rate = 16000, frame_size = 40)"
   ]
  },
  {
   "cell_type": "code",
   "execution_count": 5,
   "metadata": {},
   "outputs": [],
   "source": [
    "dataloader = DataLoader(dataset, batch_size=1024)"
   ]
  },
  {
   "cell_type": "code",
   "execution_count": 6,
   "metadata": {},
   "outputs": [
    {
     "name": "stdout",
     "output_type": "stream",
     "text": [
      "f1 score : 0.7203844823918756\n",
      "accuracy : 0.7738575398883668\n"
     ]
    }
   ],
   "source": [
    "f1_mean = 0\n",
    "accuracy = 0\n",
    "for idx, batch in enumerate(dataloader):\n",
    "    gt = batch['label']\n",
    "    b = gt.shape[0]\n",
    "    with torch.no_grad():\n",
    "        est = vad(batch['wav'])\n",
    "        est = est.cpu().numpy()\n",
    "        est = np.argmax(est, axis=1)\n",
    "    gt = np.argmax(gt.numpy(), axis=1)\n",
    "    f1_mean += metrics.f1_score(gt, est) * b\n",
    "    accuracy += metrics.accuracy_score(gt, est) * b\n",
    "    #print(metrics.f1_score(gt, est), metrics.accuracy_score(gt, est))\n",
    "\n",
    "\n",
    "print(\"f1 score : {}\".format(f1_mean / len(dataset)))\n",
    "print(\"accuracy : {}\".format(accuracy / len(dataset)))"
   ]
  },
  {
   "cell_type": "code",
   "execution_count": null,
   "metadata": {},
   "outputs": [],
   "source": []
  }
 ],
 "metadata": {
  "kernelspec": {
   "display_name": "Python 3.8.5 ('SDS': conda)",
   "language": "python",
   "name": "python3"
  },
  "language_info": {
   "codemirror_mode": {
    "name": "ipython",
    "version": 3
   },
   "file_extension": ".py",
   "mimetype": "text/x-python",
   "name": "python",
   "nbconvert_exporter": "python",
   "pygments_lexer": "ipython3",
   "version": "3.8.5"
  },
  "orig_nbformat": 4,
  "vscode": {
   "interpreter": {
    "hash": "8faebe5a2c40504fb7c09b62ab9b3c49a32858b967d3499384ad8b14220ec2ce"
   }
  }
 },
 "nbformat": 4,
 "nbformat_minor": 2
}
